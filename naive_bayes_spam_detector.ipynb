{
  "nbformat": 4,
  "nbformat_minor": 0,
  "metadata": {
    "colab": {
      "name": "hw1.ipynb",
      "provenance": [],
      "collapsed_sections": []
    },
    "kernelspec": {
      "name": "python3",
      "display_name": "Python 3"
    }
  },
  "cells": [
    {
      "cell_type": "code",
      "metadata": {
        "id": "I3eG2f2Gxgu3"
      },
      "source": [
        "import csv\r\n",
        "import math\r\n",
        "import random\r\n",
        "import numpy as np"
      ],
      "execution_count": 102,
      "outputs": []
    },
    {
      "cell_type": "code",
      "metadata": {
        "id": "hT5Ye8lW1Fb2"
      },
      "source": [
        "def load_dataset(x_filename, y_filename):\r\n",
        "    with open(x_filename, 'r') as x_csv:\r\n",
        "        lines_x = csv.reader(x_csv, delimiter=',')\r\n",
        "        dataset_x = np.array([[int(row[col_i]) for col_i in range(len(row))] for row in lines_x]) # List comprehension is used.\r\n",
        "\r\n",
        "    with open(y_filename, 'r') as y_csv:\r\n",
        "        lines_y = csv.reader(y_csv)\r\n",
        "        dataset_y = np.array([int(row[0]) for row in lines_y])\r\n",
        "\r\n",
        "    set_size = int(len(dataset_x))\r\n",
        "\r\n",
        "    return dataset_x, dataset_y, set_size"
      ],
      "execution_count": 103,
      "outputs": []
    },
    {
      "cell_type": "code",
      "metadata": {
        "id": "MDNP_-UK5Wtk"
      },
      "source": [
        "train_x, train_y, set_size = load_dataset(\"x_train.csv\", \"y_train.csv\")"
      ],
      "execution_count": 104,
      "outputs": []
    },
    {
      "cell_type": "code",
      "metadata": {
        "colab": {
          "base_uri": "https://localhost:8080/"
        },
        "id": "ZV2mvNmg3a4E",
        "outputId": "760a769a-d25a-4a48-921c-81daa5a4dbf7"
      },
      "source": [
        "print( \"Question 3.1\\nSpam ratio in train_y: \")\r\n",
        "spam_ratio = np.count_nonzero(train_y == 1) / set_size\r\n",
        "normal_ratio = 1 - spam_ratio\r\n",
        "print(spam_ratio * 100)"
      ],
      "execution_count": 105,
      "outputs": [
        {
          "output_type": "stream",
          "text": [
            "Question 3.1\n",
            "Spam ratio in train_y: \n",
            "71.26070991432069\n"
          ],
          "name": "stdout"
        }
      ]
    },
    {
      "cell_type": "code",
      "metadata": {
        "id": "2R66Qm85fisG"
      },
      "source": [
        "def naive_bayes_train(train_x, train_y, set_size, alpha, mult):\r\n",
        "  # if mult is true => multinomial, if mult is false => bernoulli naive bayes model\r\n",
        "  spam_ratio = np.count_nonzero(train_y == 1) / set_size\r\n",
        "  normal_ratio = 1 - spam_ratio\r\n",
        "  spam_data = np.array([(train_x[:,i] * train_y) for i in range(train_x.shape[1])]).T\r\n",
        "  if mult:\r\n",
        "    spam_occurences = np.sum(spam_data, axis = 0) # for each j take train_x[k][j] * train_y[]\r\n",
        "    normal_occurences = np.sum(train_x - spam_data, axis = 0)\r\n",
        "    spam_occurence_ratios = (spam_occurences + alpha) / (np.sum(spam_occurences, axis = 0) + alpha * len(train_y)) \r\n",
        "    normal_occurence_ratios = (normal_occurences + alpha) / (np.sum(normal_occurences, axis = 0) + alpha * len(train_y))\r\n",
        "  else:\r\n",
        "    spam_occurences = np.count_nonzero(spam_data, axis = 0)\r\n",
        "    normal_occurences = np.count_nonzero(train_x - spam_data, axis = 0)\r\n",
        "    spam_occurence_ratios = (spam_occurences + alpha) / (np.count_nonzero(train_y) + alpha * len(train_y)) \r\n",
        "    normal_occurence_ratios = (normal_occurences + alpha) / (set_size - np.count_nonzero(train_y) + alpha * len(train_y))\r\n",
        "  \r\n",
        "  # P(Xj|y=spam) = Nj,spam / Nspam\r\n",
        "  # alpha -> smoothing for part 3.3\r\n",
        "  \r\n",
        "  return spam_ratio, normal_ratio, spam_occurence_ratios, normal_occurence_ratios"
      ],
      "execution_count": 106,
      "outputs": []
    },
    {
      "cell_type": "code",
      "metadata": {
        "id": "63fxGA9MuJRX"
      },
      "source": [
        "def naive_bayes_test(test_x, test_y, spam_ratio, normal_ratio, spam_occurence_ratios, normal_occurence_ratios, mult):\r\n",
        "  if mult:\r\n",
        "    spam_prob = np.array([np.log(spam_ratio) + np.nansum(test_x[i] * np.log(spam_occurence_ratios)) for i in range(test_x.shape[0])])\r\n",
        "    normal_prob = np.array([np.log(normal_ratio) + np.nansum(test_x[i] * np.log(normal_occurence_ratios)) for i in range(test_x.shape[0])])\r\n",
        "  else:\r\n",
        "    spam_test_x = np.array([[spam_occurence_ratios[i] if row[i] != 0 else 1 - spam_occurence_ratios[i] for i in range(len(row))] for row in test_x])    \r\n",
        "    spam_contr = np.log(np.prod(spam_test_x, axis = 1))\r\n",
        "    spam_prob = np.log(spam_ratio) + np.where(np.isnan(spam_contr), 0, spam_contr)\r\n",
        "    normal_test_x = np.array([[normal_occurence_ratios[i] if row[i] != 0 else 1 - normal_occurence_ratios[i] for i in range(len(row))] for row in test_x])    \r\n",
        "    normal_contr = np.log(np.prod(normal_test_x, axis = 1))\r\n",
        "    normal_prob = np.log(normal_ratio) + np.where(np.isnan(normal_contr), 0, normal_contr)\r\n",
        "  results = np.array([1 if spam_prob[i] > normal_prob[i] else 0 for i in range(len(spam_prob))])\r\n",
        "  print(results.shape)\r\n",
        "  # both are -inf => choose 0\r\n",
        "  # on is -inf => choose other\r\n",
        "  no_of_wrong = np.sum(np.array([1 if results[i] != test_y[i] else 0 for i in range(len(results))]))\r\n",
        "  accuracy = (len(results) - no_of_wrong) / len(results)\r\n",
        "  true_positive = np.sum(results * test_y)\r\n",
        "  true_negative = len(results) - no_of_wrong - true_positive # all trues - true positives\r\n",
        "  false_positive = np.sum(np.array([1 if results[i] == 1 and test_y[i] == 0 else 0 for i in range(len(results))]))\r\n",
        "  false_negative = no_of_wrong - false_positive\r\n",
        "  confusion_matrix = np.array([[true_positive, false_positive], [false_negative, false_positive]])\r\n",
        "  return results, no_of_wrong, accuracy, confusion_matrix\r\n",
        "  "
      ],
      "execution_count": 107,
      "outputs": []
    },
    {
      "cell_type": "code",
      "metadata": {
        "id": "pDTnmm3evdi2"
      },
      "source": [
        "test_x, test_y, test_set_size = load_dataset(\"x_test.csv\", \"y_test.csv\")"
      ],
      "execution_count": 108,
      "outputs": []
    },
    {
      "cell_type": "code",
      "metadata": {
        "id": "EtZvNtFZteFy"
      },
      "source": [
        "spam_ratio, normal_ratio, spam_occurence_ratios, normal_occurence_ratios = naive_bayes_train(train_x, train_y, set_size, 0, True)\r\n",
        "# alpha = 0, Multinomial"
      ],
      "execution_count": 109,
      "outputs": []
    },
    {
      "cell_type": "code",
      "metadata": {
        "colab": {
          "base_uri": "https://localhost:8080/"
        },
        "id": "rzTnVwbDyr7a",
        "outputId": "25195f45-f519-4f7d-f956-8aaa83b90bab"
      },
      "source": [
        "results, no_of_wrong, accuracy, confusion_matrix = naive_bayes_test(test_x, test_y, spam_ratio, normal_ratio, spam_occurence_ratios, normal_occurence_ratios, True)"
      ],
      "execution_count": 110,
      "outputs": [
        {
          "output_type": "stream",
          "text": [
            "/usr/local/lib/python3.7/dist-packages/ipykernel_launcher.py:3: RuntimeWarning: divide by zero encountered in log\n",
            "  This is separate from the ipykernel package so we can avoid doing imports until\n",
            "/usr/local/lib/python3.7/dist-packages/ipykernel_launcher.py:3: RuntimeWarning: invalid value encountered in multiply\n",
            "  This is separate from the ipykernel package so we can avoid doing imports until\n",
            "/usr/local/lib/python3.7/dist-packages/ipykernel_launcher.py:4: RuntimeWarning: divide by zero encountered in log\n",
            "  after removing the cwd from sys.path.\n",
            "/usr/local/lib/python3.7/dist-packages/ipykernel_launcher.py:4: RuntimeWarning: invalid value encountered in multiply\n",
            "  after removing the cwd from sys.path.\n"
          ],
          "name": "stderr"
        },
        {
          "output_type": "stream",
          "text": [
            "(1086,)\n"
          ],
          "name": "stdout"
        }
      ]
    },
    {
      "cell_type": "code",
      "metadata": {
        "colab": {
          "base_uri": "https://localhost:8080/"
        },
        "id": "CcVn_Qk0IMR1",
        "outputId": "37a0456a-9dcc-4dfa-9f84-fbc43a91caa2"
      },
      "source": [
        "print(\"\\nQuestion 3.2\")\r\n",
        "print(\"Accuracy = \", accuracy)\r\n",
        "print(\"Number of wrong estimations = \", no_of_wrong)\r\n",
        "print(\"Confusion matrix = \\n\", confusion_matrix)"
      ],
      "execution_count": 111,
      "outputs": [
        {
          "output_type": "stream",
          "text": [
            "\n",
            "Question 3.2\n",
            "Accuracy =  0.85451197053407\n",
            "Number of wrong estimations =  158\n",
            "Confusion matrix = \n",
            " [[611   8]\n",
            " [150   8]]\n"
          ],
          "name": "stdout"
        }
      ]
    },
    {
      "cell_type": "code",
      "metadata": {
        "id": "92sINscxNt5Q",
        "colab": {
          "base_uri": "https://localhost:8080/"
        },
        "outputId": "1fd4c9b2-6685-46fa-d434-f4180715b24e"
      },
      "source": [
        "spam_ratio, normal_ratio, spam_occurence_ratios, normal_occurence_ratios = naive_bayes_train(train_x, train_y, set_size, 1, True)\r\n",
        "# alpha = 1, Multinomial\r\n",
        "results, no_of_wrong, accuracy, confusion_matrix = naive_bayes_test(test_x, test_y, spam_ratio, normal_ratio, spam_occurence_ratios, normal_occurence_ratios, True)"
      ],
      "execution_count": 112,
      "outputs": [
        {
          "output_type": "stream",
          "text": [
            "(1086,)\n"
          ],
          "name": "stdout"
        }
      ]
    },
    {
      "cell_type": "code",
      "metadata": {
        "colab": {
          "base_uri": "https://localhost:8080/"
        },
        "id": "Jpuz6mKxOCvw",
        "outputId": "d3184447-941b-44de-c75a-4670122bcb65"
      },
      "source": [
        "print(\"\\nQuestion 3.3\")\r\n",
        "print(\"Accuracy = \", accuracy)\r\n",
        "print(\"Number of wrong estimations = \", no_of_wrong)\r\n",
        "print(\"Confusion matrix = \\n\", confusion_matrix)"
      ],
      "execution_count": 113,
      "outputs": [
        {
          "output_type": "stream",
          "text": [
            "\n",
            "Question 3.3\n",
            "Accuracy =  0.9751381215469613\n",
            "Number of wrong estimations =  27\n",
            "Confusion matrix = \n",
            " [[742   8]\n",
            " [ 19   8]]\n"
          ],
          "name": "stdout"
        }
      ]
    },
    {
      "cell_type": "code",
      "metadata": {
        "colab": {
          "base_uri": "https://localhost:8080/"
        },
        "id": "d1yyiwkEm3jF",
        "outputId": "ec862f33-09a6-4fc5-9222-f94a8c419504"
      },
      "source": [
        "spam_ratio, normal_ratio, spam_occurence_ratios, normal_occurence_ratios = naive_bayes_train(train_x, train_y, set_size, 0, False)\r\n",
        "# alpha = 1, Binomial\r\n",
        "results, no_of_wrong, accuracy, confusion_matrix = naive_bayes_test(test_x, test_y, spam_ratio, normal_ratio, spam_occurence_ratios, normal_occurence_ratios, False)"
      ],
      "execution_count": 114,
      "outputs": [
        {
          "output_type": "stream",
          "text": [
            "/usr/local/lib/python3.7/dist-packages/ipykernel_launcher.py:7: RuntimeWarning: divide by zero encountered in log\n",
            "  import sys\n"
          ],
          "name": "stderr"
        },
        {
          "output_type": "stream",
          "text": [
            "(1086,)\n"
          ],
          "name": "stdout"
        },
        {
          "output_type": "stream",
          "text": [
            "/usr/local/lib/python3.7/dist-packages/ipykernel_launcher.py:10: RuntimeWarning: divide by zero encountered in log\n",
            "  # Remove the CWD from sys.path while we load stuff.\n"
          ],
          "name": "stderr"
        }
      ]
    },
    {
      "cell_type": "code",
      "metadata": {
        "colab": {
          "base_uri": "https://localhost:8080/"
        },
        "id": "TeJB5L_Zm3sP",
        "outputId": "1f0a7ddf-9684-4f05-b184-44c1e9f799e0"
      },
      "source": [
        "print(\"\\nQuestion 3.4\")\r\n",
        "print(\"Accuracy = \", accuracy)\r\n",
        "print(\"Number of wrong estimations = \", no_of_wrong)\r\n",
        "print(\"Confusion matrix = \\n\", confusion_matrix)"
      ],
      "execution_count": 115,
      "outputs": [
        {
          "output_type": "stream",
          "text": [
            "\n",
            "Question 3.4\n",
            "Accuracy =  0.8360957642725598\n",
            "Number of wrong estimations =  178\n",
            "Confusion matrix = \n",
            " [[608  25]\n",
            " [153  25]]\n"
          ],
          "name": "stdout"
        }
      ]
    }
  ]
}